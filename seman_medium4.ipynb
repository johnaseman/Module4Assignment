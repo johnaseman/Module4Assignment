{
 "cells": [
  {
   "cell_type": "code",
   "execution_count": null,
   "id": "f024d848-829a-4baf-bd5b-f02bc2e9879e",
   "metadata": {},
   "outputs": [],
   "source": [
    "import pandas as pd\n",
    "import matplotlib.pyplot as plt\n",
    "from sklearn.cluster import KMeans\n",
    "from sklearn.preprocessing import StandardScaler\n",
    "from sklearn.decomposition import PCA\n",
    "\n",
    "# Load dataset\n",
    "df = pd.read_csv('CC GENERAL.csv')\n",
    "\n",
    "# Select relevant features\n",
    "features = ['PURCHASES', 'CASH_ADVANCE', 'PAYMENTS', 'CREDIT_LIMIT', 'BALANCE', 'MINIMUM_PAYMENTS']\n",
    "X = df[features].dropna().reset_index(drop=True)\n",
    "\n",
    "# Standardize the features\n",
    "scaler = StandardScaler()\n",
    "X_scaled = scaler.fit_transform(X)\n",
    "\n",
    "# Determine optimal k using the Elbow Method\n",
    "e = []\n",
    "for i in range(1, 11):\n",
    "    kmeans = KMeans(n_clusters=i, random_state=42, n_init=10)\n",
    "    kmeans.fit(X_scaled)\n",
    "    e.append(kmeans.inertia_)\n",
    "\n",
    "plt.plot(range(1, 11), e, marker='o')\n",
    "plt.title('Elbow Method')\n",
    "plt.show()\n",
    "\n",
    "# Apply PCA\n",
    "pca = PCA(n_components=2)\n",
    "X_pca = pca.fit_transform(X_scaled)\n",
    "\n",
    "# Fit final KMeans with k=3 (from elbow curve)\n",
    "kmeans = KMeans(n_clusters=3, random_state=42, n_init=10)\n",
    "clusters = kmeans.fit_predict(X_scaled)\n",
    "\n",
    "# Plot the clusters\n",
    "plt.figure(figsize=(8, 6))\n",
    "plt.scatter(X_pca[:, 0], X_pca[:, 1], c=clusters, cmap='viridis', s=50)\n",
    "plt.title('Clusters visualized using PCA')\n",
    "plt.colorbar(label='Cluster')\n",
    "plt.show()\n",
    "\n",
    "# Add cluster labels to the original data\n",
    "X_with_clusters = X.copy()\n",
    "X_with_clusters['Cluster'] = clusters"
   ]
  }
 ],
 "metadata": {
  "kernelspec": {
   "display_name": "Python [conda env:base] *",
   "language": "python",
   "name": "conda-base-py"
  },
  "language_info": {
   "codemirror_mode": {
    "name": "ipython",
    "version": 3
   },
   "file_extension": ".py",
   "mimetype": "text/x-python",
   "name": "python",
   "nbconvert_exporter": "python",
   "pygments_lexer": "ipython3",
   "version": "3.12.7"
  }
 },
 "nbformat": 4,
 "nbformat_minor": 5
}
